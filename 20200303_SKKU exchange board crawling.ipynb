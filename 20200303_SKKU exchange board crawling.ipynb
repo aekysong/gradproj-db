{
 "cells": [
  {
   "cell_type": "code",
   "execution_count": 1,
   "metadata": {},
   "outputs": [],
   "source": [
    "import requests\n",
    "from bs4 import BeautifulSoup\n",
    "from selenium import webdriver\n",
    "from selenium.webdriver.common.action_chains import ActionChains"
   ]
  },
  {
   "cell_type": "code",
   "execution_count": 11,
   "metadata": {},
   "outputs": [],
   "source": [
    "# driver_path = 'webdriver/chromedriver'\n",
    "\n",
    "driver_path = '/Users/song-yegyun/Documents/Workspace/chromedriver'\n",
    "driver = webdriver.Chrome(driver_path)"
   ]
  },
  {
   "cell_type": "code",
   "execution_count": 12,
   "metadata": {},
   "outputs": [],
   "source": [
    "#암시적 대기\n",
    "driver.implicitly_wait(5)"
   ]
  },
  {
   "cell_type": "code",
   "execution_count": 13,
   "metadata": {},
   "outputs": [
    {
     "name": "stdout",
     "output_type": "stream",
     "text": [
      "크롤링 진행 중 ... 490/1000\n",
      "크롤링 진행 중 ... 500/1000\n",
      "크롤링 진행 중 ... 510/1000\n",
      "크롤링 진행 중 ... 520/1000\n",
      "크롤링 진행 중 ... 530/1000\n",
      "크롤링 진행 중 ... 540/1000\n",
      "크롤링 진행 중 ... 550/1000\n",
      "크롤링 진행 중 ... 560/1000\n",
      "크롤링 진행 중 ... 570/1000\n",
      "크롤링 진행 중 ... 580/1000\n",
      "크롤링 진행 중 ... 590/1000\n",
      "크롤링 진행 중 ... 600/1000\n",
      "크롤링 진행 중 ... 610/1000\n",
      "크롤링 진행 중 ... 620/1000\n",
      "크롤링 진행 중 ... 630/1000\n",
      "크롤링 진행 중 ... 640/1000\n",
      "크롤링 진행 중 ... 650/1000\n",
      "크롤링 진행 중 ... 660/1000\n",
      "크롤링 진행 중 ... 670/1000\n",
      "크롤링 진행 중 ... 680/1000\n",
      "크롤링 진행 중 ... 690/1000\n",
      "크롤링 진행 중 ... 700/1000\n",
      "크롤링 진행 중 ... 710/1000\n",
      "크롤링 진행 중 ... 720/1000\n",
      "크롤링 진행 중 ... 730/1000\n",
      "크롤링 진행 중 ... 740/1000\n",
      "크롤링 진행 중 ... 750/1000\n",
      "크롤링 진행 중 ... 760/1000\n",
      "크롤링 진행 중 ... 770/1000\n",
      "크롤링 진행 중 ... 780/1000\n",
      "크롤링 진행 중 ... 790/1000\n",
      "크롤링 진행 중 ... 800/1000\n",
      "크롤링 진행 중 ... 810/1000\n",
      "크롤링 진행 중 ... 820/1000\n",
      "크롤링 진행 중 ... 830/1000\n",
      "크롤링 진행 중 ... 840/1000\n",
      "크롤링 진행 중 ... 850/1000\n",
      "크롤링 진행 중 ... 860/1000\n",
      "크롤링 진행 중 ... 870/1000\n",
      "크롤링 진행 중 ... 880/1000\n",
      "크롤링 진행 중 ... 890/1000\n",
      "크롤링 진행 중 ... 900/1000\n",
      "크롤링 진행 중 ... 910/1000\n",
      "크롤링 진행 중 ... 920/1000\n",
      "크롤링 진행 중 ... 930/1000\n",
      "크롤링 진행 중 ... 940/1000\n",
      "크롤링 진행 중 ... 950/1000\n",
      "크롤링 진행 중 ... 960/1000\n",
      "크롤링 진행 중 ... 970/1000\n",
      "크롤링 진행 중 ... 980/1000\n",
      "크롤링 진행 중 ... 990/1000\n"
     ]
    }
   ],
   "source": [
    "with requests.Session() as s:\n",
    "    # 로그인 먼저\n",
    "    driver.get('https://www.skku.edu/skku/etc/login.do')\n",
    "    driver.find_element_by_name('member_id').send_keys('ID')\n",
    "    driver.find_element_by_name('member_pw').send_keys('PW')\n",
    "    driver.find_element_by_xpath('//*[@id=\"loginForm\"]/fieldset/div/button').click()\n",
    "    \n",
    "    # 수학보고서 페이지\n",
    "    base_url = 'https://www.skku.edu/skku/international/globalComm/international_list03.do?mode=list&&articleLimit=10&'\n",
    "    \n",
    "    for i in range(0, 1001, 10):\n",
    "        print('크롤링 진행 중 ... {}/1000'.format(i))\n",
    "        \n",
    "        redirect_url = base_url + 'article.offset=' + str(i)\n",
    "        driver.get(redirect_url)\n",
    "        \n",
    "        for i in range(1, 11):\n",
    "            clip_button = driver.find_element_by_xpath('//*[@id=\"jwxe_main_content\"]/div[2]/div/div/div[2]/table/tbody/tr[' + str(i) + ']/td[7]/button')\n",
    "            ActionChains(driver).move_to_element(clip_button).click(clip_button).perform()\n",
    "            \n",
    "            file_name = driver.find_element_by_xpath('//*[@id=\"jwxe_main_content\"]/div[2]/div/div/div[2]/table/tbody/tr[' + str(i) + ']/td[7]/div/form/fieldset/ul[1]/li/a')\n",
    "#             print(file_name.text)\n",
    "            \n",
    "            if file_name.text[-3:] == 'doc':\n",
    "                download_button = driver.find_element_by_xpath('//*[@id=\"jwxe_main_content\"]/div[2]/div/div/div[2]/table/tbody/tr[' + str(i) + ']/td[7]/div/form/fieldset/ul[1]/li/a')\n",
    "                close_button = driver.find_element_by_xpath('//*[@id=\"jwxe_main_content\"]/div[2]/div/div/div[2]/table/tbody/tr[' + str(i) + ']/td[7]/div/button')\n",
    "                try:\n",
    "                    ActionChains(driver).move_to_element(download_button).click(download_button).move_to_element(close_button).click(close_button).perform()\n",
    "                except:\n",
    "                    back_button = driver.find_element_by_xpath('/html/body/center/h3/a')\n",
    "                    ActionChains(driver).move_to_element(back_button).click(back_button).perform()\n",
    "            else:\n",
    "                close_button = driver.find_element_by_xpath('//*[@id=\"jwxe_main_content\"]/div[2]/div/div/div[2]/table/tbody/tr[' + str(i) + ']/td[7]/div/button')\n",
    "                ActionChains(driver).move_to_element(close_button).click(close_button).perform()\n",
    "                \n",
    "#             if file_name.text[-3:] == 'doc':\n",
    "#                 download_button = driver.find_element_by_xpath('//*[@id=\"jwxe_main_content\"]/div[2]/div/div/div[2]/table/tbody/tr[' + str(i) + ']/td[7]/div/form/fieldset/ul[1]/li/a')\n",
    "#                 close_button = driver.find_element_by_xpath('//*[@id=\"jwxe_main_content\"]/div[2]/div/div/div[2]/table/tbody/tr[' + str(i) + ']/td[7]/div/button')\n",
    "#                 try:\n",
    "#                     ActionChains(driver).move_to_element(download_button).click(download_button).move_to_element(close_button).click(close_button).perform()\n",
    "#                 except JavascriptException:\n",
    "#                     print(\"JavascriptException 에러로 인해 {}를 저장하지 못했습니다.\".format(file_name.text))\n",
    "#                     ActionChains(driver).move_to_element(close_button).click(close_button).perform()\n",
    "#             else:\n",
    "#                 close_button = driver.find_element_by_xpath('//*[@id=\"jwxe_main_content\"]/div[2]/div/div/div[2]/table/tbody/tr[' + str(i) + ']/td[7]/div/button')\n",
    "#                 ActionChains(driver).move_to_element(close_button).click(close_button).perform()\n",
    "        \n",
    "#         break # 임시"
   ]
  },
  {
   "cell_type": "code",
   "execution_count": null,
   "metadata": {},
   "outputs": [],
   "source": []
  }
 ],
 "metadata": {
  "kernelspec": {
   "display_name": "Python 3",
   "language": "python",
   "name": "python3"
  },
  "language_info": {
   "codemirror_mode": {
    "name": "ipython",
    "version": 3
   },
   "file_extension": ".py",
   "mimetype": "text/x-python",
   "name": "python",
   "nbconvert_exporter": "python",
   "pygments_lexer": "ipython3",
   "version": "3.6.5"
  }
 },
 "nbformat": 4,
 "nbformat_minor": 2
}