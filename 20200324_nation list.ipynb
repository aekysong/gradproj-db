{
 "cells": [
  {
   "cell_type": "code",
   "execution_count": 1,
   "metadata": {},
   "outputs": [],
   "source": [
    "import csv"
   ]
  },
  {
   "cell_type": "code",
   "execution_count": 5,
   "metadata": {},
   "outputs": [],
   "source": [
    "univ_nation = []\n",
    "\n",
    "with open('./univ_data.csv') as csvfile:\n",
    "    reader = csv.DictReader(csvfile)\n",
    "    for data in reader:\n",
    "        if data['nation'] not in univ_nation and data['nation'] != '':\n",
    "            univ_nation.append(data['nation'])"
   ]
  },
  {
   "cell_type": "code",
   "execution_count": 6,
   "metadata": {},
   "outputs": [
    {
     "data": {
      "text/plain": [
       "['네덜란드',\n",
       " '노르웨이',\n",
       " '뉴질랜드',\n",
       " '대만',\n",
       " '덴마크',\n",
       " '독일',\n",
       " '러시아',\n",
       " '리투아니아',\n",
       " '말레이시아',\n",
       " '멕시코',\n",
       " '미국',\n",
       " '벨기에',\n",
       " '브라질',\n",
       " '브루나이',\n",
       " '스웨덴',\n",
       " '스위스',\n",
       " '스페인',\n",
       " '싱가포르',\n",
       " '아랍에미레이트',\n",
       " '아이슬란드',\n",
       " '아일랜드',\n",
       " '영국',\n",
       " '오스트리아',\n",
       " '우루과이',\n",
       " '이탈리아',\n",
       " '인도네시아',\n",
       " '일본',\n",
       " '중국',\n",
       " '체코',\n",
       " '칠레',\n",
       " '캐나다',\n",
       " '콜롬비아',\n",
       " '크로아티아',\n",
       " '태국',\n",
       " '터키',\n",
       " '폴란드',\n",
       " '프랑스',\n",
       " '핀란드',\n",
       " '호주']"
      ]
     },
     "execution_count": 6,
     "metadata": {},
     "output_type": "execute_result"
    }
   ],
   "source": [
    "univ_nation"
   ]
  },
  {
   "cell_type": "code",
   "execution_count": null,
   "metadata": {},
   "outputs": [],
   "source": []
  }
 ],
 "metadata": {
  "kernelspec": {
   "display_name": "Python 3",
   "language": "python",
   "name": "python3"
  },
  "language_info": {
   "codemirror_mode": {
    "name": "ipython",
    "version": 3
   },
   "file_extension": ".py",
   "mimetype": "text/x-python",
   "name": "python",
   "nbconvert_exporter": "python",
   "pygments_lexer": "ipython3",
   "version": "3.6.5"
  }
 },
 "nbformat": 4,
 "nbformat_minor": 2
}
